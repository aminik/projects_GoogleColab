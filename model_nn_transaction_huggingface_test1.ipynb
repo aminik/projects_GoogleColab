{
  "nbformat": 4,
  "nbformat_minor": 0,
  "metadata": {
    "colab": {
      "provenance": [],
      "authorship_tag": "ABX9TyMgMyZXjgRouO1YLZt1zyWk",
      "include_colab_link": true
    },
    "kernelspec": {
      "name": "python3",
      "display_name": "Python 3"
    },
    "language_info": {
      "name": "python"
    }
  },
  "cells": [
    {
      "cell_type": "markdown",
      "metadata": {
        "id": "view-in-github",
        "colab_type": "text"
      },
      "source": [
        "<a href=\"https://colab.research.google.com/github/aminik/projects_GoogleColab/blob/main/model_nn_transaction_huggingface_test1.ipynb\" target=\"_parent\"><img src=\"https://colab.research.google.com/assets/colab-badge.svg\" alt=\"Open In Colab\"/></a>"
      ]
    },
    {
      "cell_type": "markdown",
      "source": [
        "## Field preporation"
      ],
      "metadata": {
        "id": "b0A5GKqwdUP_"
      }
    },
    {
      "cell_type": "code",
      "execution_count": 4,
      "metadata": {
        "id": "a_4EKfmwa1Az",
        "colab": {
          "base_uri": "https://localhost:8080/"
        },
        "outputId": "97a7ae3b-bd76-4263-8288-e5c576a0680a"
      },
      "outputs": [
        {
          "output_type": "stream",
          "name": "stdout",
          "text": [
            "tensorflow                         2.17.1\n",
            "tensorflow-datasets                4.9.7\n",
            "tensorflow-hub                     0.16.1\n",
            "tensorflow-io-gcs-filesystem       0.37.1\n",
            "tensorflow-metadata                1.13.1\n",
            "tensorflow-probability             0.24.0\n",
            "sentence-transformers              3.3.1\n",
            "transformers                       4.47.1\n",
            "torch                              2.5.1+cu121\n",
            "torchaudio                         2.5.1+cu121\n",
            "torchsummary                       1.5.1\n",
            "torchvision                        0.20.1+cu121\n"
          ]
        }
      ],
      "source": [
        "for lib_name in  [\"tensorflow\" ,\"transformers\", \"torch\", \"evaluate\"]:\n",
        "  !pip list | grep -i {lib_name}"
      ]
    },
    {
      "cell_type": "code",
      "source": [
        "not exists library evalute"
      ],
      "metadata": {
        "id": "SGLW0P6Zcl_m"
      },
      "execution_count": null,
      "outputs": []
    },
    {
      "cell_type": "code",
      "source": [
        "## connect to GoogleDrive\n",
        "from google.colab import drive\n",
        "drive.mount('/content/drive')"
      ],
      "metadata": {
        "colab": {
          "base_uri": "https://localhost:8080/"
        },
        "id": "w7F3pM27dIy8",
        "outputId": "79424df9-64c4-4cf4-f76e-732bcfe4903c"
      },
      "execution_count": 5,
      "outputs": [
        {
          "output_type": "stream",
          "name": "stdout",
          "text": [
            "Mounted at /content/drive\n"
          ]
        }
      ]
    }
  ]
}