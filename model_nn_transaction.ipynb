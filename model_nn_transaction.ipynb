{
  "nbformat": 4,
  "nbformat_minor": 0,
  "metadata": {
    "colab": {
      "provenance": [],
      "toc_visible": true,
      "gpuType": "V28",
      "authorship_tag": "ABX9TyOLnUyUoamxCxduuIJpIkpT",
      "include_colab_link": true
    },
    "kernelspec": {
      "name": "python3",
      "display_name": "Python 3"
    },
    "language_info": {
      "name": "python"
    },
    "accelerator": "TPU"
  },
  "cells": [
    {
      "cell_type": "markdown",
      "metadata": {
        "id": "view-in-github",
        "colab_type": "text"
      },
      "source": [
        "<a href=\"https://colab.research.google.com/github/aminik/projects_GoogleColab/blob/main/model_nn_transaction.ipynb\" target=\"_parent\"><img src=\"https://colab.research.google.com/assets/colab-badge.svg\" alt=\"Open In Colab\"/></a>"
      ]
    },
    {
      "cell_type": "markdown",
      "source": [
        "# Preparing Notebbok\n"
      ],
      "metadata": {
        "id": "AVEHYcUCafkV"
      }
    },
    {
      "cell_type": "code",
      "execution_count": null,
      "metadata": {
        "colab": {
          "base_uri": "https://localhost:8080/"
        },
        "id": "k9MN9FDxQqIF",
        "outputId": "b0af217c-bcf4-4cf4-d1c8-efb7144c7705"
      },
      "outputs": [
        {
          "output_type": "stream",
          "name": "stdout",
          "text": [
            "Mounted at /content/drive\n"
          ]
        }
      ],
      "source": [
        "from google.colab import drive\n",
        "drive.mount('/content/drive')"
      ]
    },
    {
      "cell_type": "code",
      "source": [
        "!ls /content/drive/MyDrive/'Colab Notebooks'/projects"
      ],
      "metadata": {
        "id": "qjuT7xnxR06t",
        "colab": {
          "base_uri": "https://localhost:8080/"
        },
        "outputId": "27c915ca-7f7d-4115-91be-f76cdd94c089"
      },
      "execution_count": null,
      "outputs": [
        {
          "output_type": "stream",
          "name": "stdout",
          "text": [
            "model_nn_transaction.ipynb\n"
          ]
        }
      ]
    },
    {
      "cell_type": "code",
      "source": [
        "!ls /content/drive/MyDrive/MyDrive"
      ],
      "metadata": {
        "colab": {
          "base_uri": "https://localhost:8080/"
        },
        "id": "xPc_gfpkTAa2",
        "outputId": "2e9b7a2b-400c-45d8-8a37-f1ae05cbead1"
      },
      "execution_count": null,
      "outputs": [
        {
          "output_type": "stream",
          "name": "stdout",
          "text": [
            "ls: cannot access '/content/drive/MyDrive/MyDrive': No such file or directory\n"
          ]
        }
      ]
    },
    {
      "cell_type": "code",
      "source": [
        "# data\n",
        "path_to_data= \"/content/drive/MyDrive/'Colab Notebooks'/data/model_nn_transaction\"\n",
        "df = pd.read_csv(file_path)\n"
      ],
      "metadata": {
        "id": "_CgYWC2ARxSd"
      },
      "execution_count": null,
      "outputs": []
    },
    {
      "cell_type": "code",
      "source": [
        "import os\n",
        "\n",
        "if 'COLAB_TPU_ADDR' not in os.environ:\n",
        "  print('Not connected to TPU')\n",
        "else:\n",
        "  print('Connected to TPU&quot')"
      ],
      "metadata": {
        "colab": {
          "base_uri": "https://localhost:8080/"
        },
        "id": "NGsDfIebbVsr",
        "outputId": "9326614d-d32b-417a-f787-ed90d9bfb774"
      },
      "execution_count": null,
      "outputs": [
        {
          "output_type": "stream",
          "name": "stdout",
          "text": [
            "Not connected to TPU\n"
          ]
        }
      ]
    },
    {
      "cell_type": "code",
      "source": [
        "os.environ\n"
      ],
      "metadata": {
        "colab": {
          "base_uri": "https://localhost:8080/"
        },
        "id": "9B6zadd7bieg",
        "outputId": "9ce851f9-9eb4-4811-b0ce-4e5e3b24dd59",
        "collapsed": true
      },
      "execution_count": null,
      "outputs": [
        {
          "output_type": "execute_result",
          "data": {
            "text/plain": [
              "environ{'SHELL': '/bin/bash',\n",
              "        'COLAB_JUPYTER_TRANSPORT': 'ipc',\n",
              "        'CGROUP_MEMORY_EVENTS': '/sys/fs/cgroup/memory.events /var/colab/cgroup/jupyter-children/memory.events',\n",
              "        'VM_GCE_METADATA_HOST': '169.254.169.253',\n",
              "        'TPU_WORKER_ID': '0',\n",
              "        'HOSTNAME': '048c70909623',\n",
              "        'LANGUAGE': 'en_US',\n",
              "        'TBE_RUNTIME_ADDR': '172.28.0.1:8011',\n",
              "        'COLAB_TPU_1VM': '1',\n",
              "        'GCE_METADATA_TIMEOUT': '3',\n",
              "        'COLAB_JUPYTER_IP': '172.28.0.12',\n",
              "        'COLAB_LANGUAGE_SERVER_PROXY_ROOT_URL': 'http://172.28.0.1:8013/',\n",
              "        'TPU_SKIP_MDS_QUERY': '1',\n",
              "        'KMP_LISTEN_PORT': '6000',\n",
              "        'TF_FORCE_GPU_ALLOW_GROWTH': 'true',\n",
              "        'ENV': '/root/.bashrc',\n",
              "        'PWD': '/',\n",
              "        'TBE_EPHEM_CREDS_ADDR': '172.28.0.1:8009',\n",
              "        'COLAB_LANGUAGE_SERVER_PROXY_REQUEST_TIMEOUT': '30s',\n",
              "        'TBE_CREDS_ADDR': '172.28.0.1:8008',\n",
              "        'TPU_CHIPS_PER_HOST_BOUNDS': '2,2,1',\n",
              "        'COLAB_JUPYTER_TOKEN': '',\n",
              "        'LAST_FORCED_REBUILD': '20241216',\n",
              "        'TCLLIBPATH': '/usr/share/tcltk/tcllib1.20',\n",
              "        'COLAB_KERNEL_MANAGER_PROXY_HOST': '172.28.0.12',\n",
              "        'COLAB_WARMUP_DEFAULTS': '1',\n",
              "        'HOME': '/root',\n",
              "        'LANG': 'en_US.UTF-8',\n",
              "        'COLUMNS': '100',\n",
              "        'TPU_ACCELERATOR_TYPE': 'v2-8',\n",
              "        'CLOUDSDK_CONFIG': '/content/.config',\n",
              "        'COLAB_RELEASE_TAG': 'release-colab_20241219-060121_RC00',\n",
              "        'TPU_RUNTIME_METRICS_PORTS': '8431,8432,8433,8434',\n",
              "        'KMP_TARGET_PORT': '9000',\n",
              "        'KMP_EXTRA_ARGS': '--logtostderr --listen_host=172.28.0.12 --target_host=172.28.0.12 --tunnel_background_save_url=https://colab.research.google.com/tun/m/cc48301118ce562b961b3c22d803539adc1e0c19/tpu-v28-s-24kap7rf436a6 --tunnel_background_save_delay=10s --tunnel_periodic_background_save_frequency=30m0s --enable_output_coalescing=true --output_coalescing_required=true --enable_kernel_event_logging=true',\n",
              "        'COLAB_LANGUAGE_SERVER_PROXY_LSP_DIRS': '/datalab/web/pyright/typeshed-fallback/stdlib,/usr/local/lib/python3.10/dist-packages',\n",
              "        'COLAB_KERNEL_MANAGER_PROXY_PORT': '6000',\n",
              "        'CLOUDSDK_PYTHON': 'python3',\n",
              "        'NO_GCE_CHECK': 'False',\n",
              "        'SLICE_BUILDER_WORKER_IPS': '127.0.0.1',\n",
              "        'PYTHONPATH': '/env/python',\n",
              "        'TPU_HOST_BOUNDS': '1,1,1',\n",
              "        'SHLVL': '0',\n",
              "        'PJRT_DEVICE': 'TPU',\n",
              "        'COLAB_LANGUAGE_SERVER_PROXY': '/usr/colab/bin/language_service',\n",
              "        'XRT_TPU_CONFIG': 'localservice;0;localhost:51011',\n",
              "        'COLAB_GPU': '',\n",
              "        'GCS_READ_CACHE_BLOCK_SIZE_MB': '16',\n",
              "        'TPU_WORKER_HOSTNAMES': 'localhost',\n",
              "        'LC_ALL': 'en_US.UTF-8',\n",
              "        'COLAB_FILE_HANDLER_ADDR': 'localhost:3453',\n",
              "        'PATH': '/opt/bin:/usr/local/sbin:/usr/local/bin:/usr/sbin:/usr/bin:/sbin:/bin:/tools/node/bin:/tools/google-cloud-sdk/bin',\n",
              "        'COLAB_DEBUG_ADAPTER_MUX_PATH': '/usr/local/bin/dap_multiplexer',\n",
              "        'PYTHONWARNINGS': 'ignore:::pip._internal.cli.base_command',\n",
              "        'DEBIAN_FRONTEND': 'noninteractive',\n",
              "        'COLAB_BACKEND_VERSION': 'next',\n",
              "        'OLDPWD': '/',\n",
              "        'JPY_PARENT_PID': '422',\n",
              "        'TERM': 'xterm-color',\n",
              "        'CLICOLOR': '1',\n",
              "        'PAGER': 'cat',\n",
              "        'GIT_PAGER': 'cat',\n",
              "        'MPLBACKEND': 'module://ipykernel.pylab.backend_inline',\n",
              "        'ENABLE_DIRECTORYPREFETCHER': '1',\n",
              "        'USE_AUTH_EPHEM': '1',\n",
              "        'PYDEVD_USE_FRAME_EVAL': 'NO'}"
            ]
          },
          "metadata": {},
          "execution_count": 4
        }
      ]
    },
    {
      "cell_type": "code",
      "source": [
        "!pip list"
      ],
      "metadata": {
        "colab": {
          "base_uri": "https://localhost:8080/"
        },
        "id": "uVKsxl3Zb4Ew",
        "outputId": "ad7480ae-4c85-4118-dfcf-be55ca8a5090"
      },
      "execution_count": null,
      "outputs": [
        {
          "output_type": "stream",
          "name": "stdout",
          "text": [
            "Package                      Version\n",
            "---------------------------- -----------------------\n",
            "absl-py                      1.4.0\n",
            "accelerate                   1.2.1\n",
            "altair                       5.5.0\n",
            "annotated-types              0.7.0\n",
            "anyio                        3.7.1\n",
            "argon2-cffi                  23.1.0\n",
            "argon2-cffi-bindings         21.2.0\n",
            "array_record                 0.5.1\n",
            "astunparse                   1.6.3\n",
            "attrs                        24.3.0\n",
            "audioread                    3.0.1\n",
            "backcall                     0.2.0\n",
            "beautifulsoup4               4.12.3\n",
            "bleach                       6.2.0\n",
            "blinker                      1.4\n",
            "blis                         0.7.11\n",
            "cachetools                   5.5.0\n",
            "catalogue                    2.0.10\n",
            "certifi                      2024.12.14\n",
            "cffi                         1.17.1\n",
            "charset-normalizer           3.4.0\n",
            "chex                         0.1.88\n",
            "click                        8.1.7\n",
            "cloudpathlib                 0.20.0\n",
            "cloudpickle                  3.1.0\n",
            "confection                   0.1.5\n",
            "contourpy                    1.3.1\n",
            "cryptography                 3.4.8\n",
            "cycler                       0.12.1\n",
            "cymem                        2.0.10\n",
            "dbus-python                  1.2.18\n",
            "debugpy                      1.8.0\n",
            "decorator                    5.1.1\n",
            "defusedxml                   0.7.1\n",
            "distrax                      0.1.5\n",
            "distro                       1.7.0\n",
            "dm-tree                      0.1.8\n",
            "docstring_parser             0.16\n",
            "dopamine_rl                  4.1.0\n",
            "en-core-web-sm               3.7.1\n",
            "entrypoints                  0.4\n",
            "etils                        1.11.0\n",
            "exceptiongroup               1.2.2\n",
            "fastai                       2.7.18\n",
            "fastcore                     1.7.27\n",
            "fastdownload                 0.0.7\n",
            "fastjsonschema               2.21.1\n",
            "fastprogress                 1.0.3\n",
            "filelock                     3.16.1\n",
            "flatbuffers                  24.3.25\n",
            "flax                         0.8.5\n",
            "fonttools                    4.55.3\n",
            "fsspec                       2024.10.0\n",
            "funcsigs                     1.0.2\n",
            "gast                         0.6.0\n",
            "GDAL                         3.6.4\n",
            "gdown                        5.2.0\n",
            "gensim                       4.3.3\n",
            "gin-config                   0.5.0\n",
            "google                       2.0.3\n",
            "google-api-core              2.24.0\n",
            "google-auth                  2.27.0\n",
            "google-auth-oauthlib         1.2.1\n",
            "google-cloud-core            2.4.1\n",
            "google-cloud-storage         2.19.0\n",
            "google-colab                 1.0.0\n",
            "google-crc32c                1.6.0\n",
            "google-genai                 0.3.0\n",
            "google-pasta                 0.2.0\n",
            "google-resumable-media       2.7.2\n",
            "googleapis-common-protos     1.66.0\n",
            "grpcio                       1.68.1\n",
            "gspread                      6.0.2\n",
            "gspread-dataframe            3.3.1\n",
            "gym                          0.25.2\n",
            "gym-notices                  0.0.8\n",
            "h5py                         3.12.1\n",
            "httplib2                     0.20.2\n",
            "huggingface-hub              0.27.0\n",
            "idna                         3.10\n",
            "imageio                      2.36.1\n",
            "immutabledict                4.2.1\n",
            "importlib-metadata           4.6.4\n",
            "importlib_resources          6.4.5\n",
            "iniconfig                    2.0.0\n",
            "ipykernel                    5.5.6\n",
            "ipyparallel                  8.8.0\n",
            "ipython                      7.34.0\n",
            "ipython-genutils             0.2.0\n",
            "ipywidgets                   7.7.1\n",
            "jax                          0.4.33\n",
            "jaxlib                       0.4.33\n",
            "jeepney                      0.7.1\n",
            "Jinja2                       3.1.4\n",
            "joblib                       1.4.2\n",
            "jsonschema                   4.23.0\n",
            "jsonschema-specifications    2024.10.1\n",
            "jupyter-client               6.1.12\n",
            "jupyter-console              6.1.0\n",
            "jupyter_core                 5.7.2\n",
            "jupyter-server               1.24.0\n",
            "jupyterlab_pygments          0.3.0\n",
            "jupyterlab_widgets           3.0.13\n",
            "kaggle                       1.6.17\n",
            "kagglehub                    0.3.5\n",
            "keras                        2.15.0\n",
            "keyring                      23.5.0\n",
            "kiwisolver                   1.4.7\n",
            "langcodes                    3.5.0\n",
            "language_data                1.3.0\n",
            "launchpadlib                 1.10.16\n",
            "lazr.restfulclient           0.14.4\n",
            "lazr.uri                     1.0.6\n",
            "lazy_loader                  0.4\n",
            "libclang                     18.1.1\n",
            "librosa                      0.10.2.post1\n",
            "libtpu-nightly               0.1.dev20240916+nightly\n",
            "llvmlite                     0.43.0\n",
            "marisa-trie                  1.2.1\n",
            "Markdown                     3.7\n",
            "markdown-it-py               3.0.0\n",
            "MarkupSafe                   3.0.2\n",
            "matplotlib                   3.8.0\n",
            "matplotlib-inline            0.1.7\n",
            "mdurl                        0.1.2\n",
            "mistune                      3.0.2\n",
            "ml-dtypes                    0.2.0\n",
            "more-itertools               8.10.0\n",
            "mpmath                       1.3.0\n",
            "msgpack                      1.1.0\n",
            "murmurhash                   1.0.11\n",
            "narwhals                     1.18.4\n",
            "nbclassic                    1.1.0\n",
            "nbclient                     0.10.1\n",
            "nbconvert                    7.16.4\n",
            "nbformat                     5.10.4\n",
            "nest-asyncio                 1.6.0\n",
            "networkx                     3.4.2\n",
            "nltk                         3.9.1\n",
            "notebook                     6.5.5\n",
            "notebook_shim                0.2.4\n",
            "numba                        0.60.0\n",
            "numpy                        1.26.4\n",
            "oauthlib                     3.2.2\n",
            "opencv-python                4.10.0.84\n",
            "opt_einsum                   3.4.0\n",
            "optax                        0.1.9\n",
            "orbax-checkpoint             0.4.4\n",
            "packaging                    24.2\n",
            "pandas                       2.2.2\n",
            "pandas-stubs                 2.2.2.240909\n",
            "pandocfilters                1.5.1\n",
            "parso                        0.8.4\n",
            "pexpect                      4.9.0\n",
            "pickleshare                  0.7.5\n",
            "pillow                       11.0.0\n",
            "pip                          24.1.2\n",
            "platformdirs                 4.3.6\n",
            "plotly                       5.24.1\n",
            "pluggy                       1.5.0\n",
            "pooch                        1.8.2\n",
            "portpicker                   1.5.2\n",
            "preshed                      3.0.9\n",
            "prometheus_client            0.21.1\n",
            "promise                      2.3\n",
            "prompt_toolkit               3.0.48\n",
            "proto-plus                   1.25.0\n",
            "protobuf                     4.25.5\n",
            "psutil                       5.9.5\n",
            "ptyprocess                   0.7.0\n",
            "pyarrow                      18.1.0\n",
            "pyasn1                       0.6.1\n",
            "pyasn1_modules               0.4.1\n",
            "pycparser                    2.22\n",
            "pydantic                     2.10.3\n",
            "pydantic_core                2.27.1\n",
            "pygame                       2.6.1\n",
            "Pygments                     2.18.0\n",
            "PyGObject                    3.42.1\n",
            "PyJWT                        2.3.0\n",
            "pyparsing                    3.2.0\n",
            "PySocks                      1.7.1\n",
            "pytest                       8.3.4\n",
            "python-apt                   0.0.0\n",
            "python-dateutil              2.9.0.post0\n",
            "python-slugify               8.0.4\n",
            "pytz                         2024.2\n",
            "PyYAML                       6.0.2\n",
            "pyzmq                        24.0.1\n",
            "referencing                  0.35.1\n",
            "regex                        2024.11.6\n",
            "requests                     2.32.3\n",
            "requests-oauthlib            2.0.0\n",
            "requirements-parser          0.9.0\n",
            "rich                         13.9.4\n",
            "rpds-py                      0.22.3\n",
            "rpy2                         3.4.2\n",
            "rsa                          4.9\n",
            "safetensors                  0.4.5\n",
            "scikit-image                 0.25.0\n",
            "scikit-learn                 1.6.0\n",
            "scipy                        1.13.1\n",
            "seaborn                      0.13.2\n",
            "SecretStorage                3.3.1\n",
            "Send2Trash                   1.8.3\n",
            "sentencepiece                0.2.0\n",
            "setuptools                   75.1.0\n",
            "shellingham                  1.5.4\n",
            "simple-parsing               0.1.6\n",
            "six                          1.17.0\n",
            "sklearn-pandas               2.2.0\n",
            "smart-open                   7.1.0\n",
            "sniffio                      1.3.1\n",
            "soundfile                    0.12.1\n",
            "soupsieve                    2.6\n",
            "soxr                         0.5.0.post1\n",
            "spacy                        3.7.5\n",
            "spacy-legacy                 3.0.12\n",
            "spacy-loggers                1.0.5\n",
            "srsly                        2.5.0\n",
            "StrEnum                      0.4.15\n",
            "sympy                        1.13.1\n",
            "tenacity                     9.0.0\n",
            "tensorboard                  2.15.2\n",
            "tensorboard-data-server      0.7.2\n",
            "tensorflow                   2.15.0\n",
            "tensorflow-datasets          4.9.7\n",
            "tensorflow-estimator         2.15.0\n",
            "tensorflow-hub               0.16.1\n",
            "tensorflow-io-gcs-filesystem 0.37.1\n",
            "tensorflow-metadata          1.13.1\n",
            "tensorflow-probability       0.24.0\n",
            "tensorflow-text              2.15.0\n",
            "tensorstore                  0.1.45\n",
            "termcolor                    2.5.0\n",
            "terminado                    0.18.1\n",
            "text-unidecode               1.3\n",
            "tf_keras                     2.15.1\n",
            "tf-slim                      1.1.0\n",
            "thinc                        8.2.5\n",
            "threadpoolctl                3.5.0\n",
            "tifffile                     2024.12.12\n",
            "tinycss2                     1.4.0\n",
            "tokenizers                   0.21.0\n",
            "toml                         0.10.2\n",
            "tomli                        2.2.1\n",
            "toolz                        1.0.0\n",
            "torch                        2.5.1+cpu\n",
            "torch-xla                    2.5.1+libtpu\n",
            "torchaudio                   2.5.1+cpu\n",
            "torchvision                  0.20.1+cpu\n",
            "tornado                      6.3.3\n",
            "tpu-info                     0.2.0\n",
            "tqdm                         4.67.1\n",
            "traitlets                    5.7.1\n",
            "transformers                 4.47.1\n",
            "trax                         1.4.1\n",
            "typer                        0.15.1\n",
            "types-pytz                   2024.2.0.20241003\n",
            "types-setuptools             75.6.0.20241126\n",
            "typing_extensions            4.12.2\n",
            "tzdata                       2024.2\n",
            "tzlocal                      5.2\n",
            "urllib3                      2.2.3\n",
            "vega-datasets                0.9.0\n",
            "wadllib                      1.3.6\n",
            "wasabi                       1.1.3\n",
            "wcwidth                      0.2.13\n",
            "weasel                       0.4.1\n",
            "webencodings                 0.5.1\n",
            "websocket-client             1.8.0\n",
            "websockets                   14.1\n",
            "Werkzeug                     3.1.3\n",
            "wheel                        0.45.1\n",
            "widgetsnbextension           3.6.10\n",
            "wrapt                        1.14.1\n",
            "zipp                         3.21.0\n"
          ]
        }
      ]
    },
    {
      "cell_type": "code",
      "source": [],
      "metadata": {
        "id": "JiPHBlgLcZm7"
      },
      "execution_count": null,
      "outputs": []
    },
    {
      "cell_type": "markdown",
      "source": [
        "# LIBS"
      ],
      "metadata": {
        "id": "rp6Cht1qceGf"
      }
    },
    {
      "cell_type": "code",
      "source": [
        "!pip install duckdb --upgrade"
      ],
      "metadata": {
        "colab": {
          "base_uri": "https://localhost:8080/"
        },
        "id": "TOq3zixpcfAU",
        "outputId": "e68f1a53-7708-4009-dfcf-26a790e5cc7b"
      },
      "execution_count": null,
      "outputs": [
        {
          "output_type": "stream",
          "name": "stdout",
          "text": [
            "Collecting duckdb\n",
            "  Downloading duckdb-1.1.3-cp310-cp310-manylinux_2_17_x86_64.manylinux2014_x86_64.whl.metadata (762 bytes)\n",
            "Downloading duckdb-1.1.3-cp310-cp310-manylinux_2_17_x86_64.manylinux2014_x86_64.whl (20.1 MB)\n",
            "\u001b[2K   \u001b[90m━━━━━━━━━━━━━━━━━━━━━━━━━━━━━━━━━━━━━━━━\u001b[0m \u001b[32m20.1/20.1 MB\u001b[0m \u001b[31m85.3 MB/s\u001b[0m eta \u001b[36m0:00:00\u001b[0m\n",
            "\u001b[?25hInstalling collected packages: duckdb\n",
            "Successfully installed duckdb-1.1.3\n"
          ]
        }
      ]
    },
    {
      "cell_type": "markdown",
      "source": [
        "connect to kaggle activate KAGGLE_KEY | KAGGLE_USERNAME"
      ],
      "metadata": {
        "id": "Q361aHrvGMAo"
      }
    },
    {
      "cell_type": "code",
      "source": [
        "from google.colab import userdata\n",
        "import os\n",
        "\n",
        "os.environ[\"KAGGLE_KEY\"] = userdata.get('KAGGLE_KEY')\n",
        "os.environ[\"KAGGLE_USERNAME\"] = userdata.get('KAGGLE_USERNAME')"
      ],
      "metadata": {
        "id": "OzuRhUDFckKH"
      },
      "execution_count": 3,
      "outputs": []
    },
    {
      "cell_type": "markdown",
      "source": [
        "# Download data from kaggle from competition `home-credit-default-risk`\n"
      ],
      "metadata": {
        "id": "5otRIo5CF2RA"
      }
    },
    {
      "cell_type": "code",
      "source": [
        "competition_name = \"home-credit-default-risk\"\n",
        "! kaggle competitions download -c {competition_name} -p data_model_nn_transaction"
      ],
      "metadata": {
        "colab": {
          "base_uri": "https://localhost:8080/"
        },
        "id": "l-9oh2og_uTg",
        "outputId": "c76d0043-dd93-4dab-c1bf-7b3e5f0ad43b"
      },
      "execution_count": 7,
      "outputs": [
        {
          "output_type": "stream",
          "name": "stdout",
          "text": [
            "Downloading home-credit-default-risk.zip to data_model_nn_transaction\n",
            " 98% 675M/688M [00:02<00:00, 257MB/s]\n",
            "100% 688M/688M [00:02<00:00, 257MB/s]\n"
          ]
        }
      ]
    },
    {
      "cell_type": "code",
      "source": [
        "! unzip data_model_nn_transaction/{competition_name + \".zip\"} -d data_model_nn_transaction"
      ],
      "metadata": {
        "colab": {
          "base_uri": "https://localhost:8080/"
        },
        "id": "aOFF4zHTBHjg",
        "outputId": "27288ca7-c3ea-4b51-dd71-76c4bfe7e25e"
      },
      "execution_count": 11,
      "outputs": [
        {
          "output_type": "stream",
          "name": "stdout",
          "text": [
            "Archive:  data_model_nn_transaction/home-credit-default-risk.zip\n",
            "  inflating: data_model_nn_transaction/HomeCredit_columns_description.csv  \n",
            "  inflating: data_model_nn_transaction/POS_CASH_balance.csv  \n",
            "  inflating: data_model_nn_transaction/application_test.csv  \n",
            "  inflating: data_model_nn_transaction/application_train.csv  \n",
            "  inflating: data_model_nn_transaction/bureau.csv  \n",
            "  inflating: data_model_nn_transaction/bureau_balance.csv  \n",
            "  inflating: data_model_nn_transaction/credit_card_balance.csv  \n",
            "  inflating: data_model_nn_transaction/installments_payments.csv  \n",
            "  inflating: data_model_nn_transaction/previous_application.csv  \n",
            "  inflating: data_model_nn_transaction/sample_submission.csv  \n"
          ]
        }
      ]
    },
    {
      "cell_type": "code",
      "source": [],
      "metadata": {
        "id": "nS7jzo3ZGII4"
      },
      "execution_count": null,
      "outputs": []
    }
  ]
}